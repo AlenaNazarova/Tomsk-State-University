{
 "cells": [
  {
   "cell_type": "markdown",
   "id": "2b1e7fee",
   "metadata": {},
   "source": [
    "# Практическое задание № 3"
   ]
  },
  {
   "cell_type": "markdown",
   "id": "d3075618",
   "metadata": {},
   "source": [
    "### Выполнил: Назарова Алёна Алексеевна"
   ]
  },
  {
   "cell_type": "markdown",
   "id": "443feab0",
   "metadata": {},
   "source": [
    "Задание:\n",
    "1. Создайте программу web-scraping с использованием библиотеки BeautifulSoup.\n",
    "Источник https://quotes.toscrape.com/\n",
    "2. Реализуйте HTML разбор текста.\n",
    "Выведите результат в DataFarme: Цитата | Автор |  Список тегов"
   ]
  },
  {
   "cell_type": "code",
   "execution_count": 1,
   "id": "b94a8b74",
   "metadata": {},
   "outputs": [],
   "source": [
    "import numpy as np\n",
    "import pandas as pd\n",
    "import requests\n",
    "from bs4 import BeautifulSoup\n",
    "import re"
   ]
  },
  {
   "cell_type": "code",
   "execution_count": 2,
   "id": "a7442d9e",
   "metadata": {},
   "outputs": [],
   "source": [
    "url = 'https://quotes.toscrape.com/'\n",
    "response = requests.get(url)\n",
    "soup = BeautifulSoup(response.text, 'lxml')"
   ]
  },
  {
   "cell_type": "code",
   "execution_count": 3,
   "id": "df919c84",
   "metadata": {},
   "outputs": [
    {
     "name": "stdout",
     "output_type": "stream",
     "text": [
      "“The world as we have created it is a process of our thinking. It cannot be changed without changing our thinking.”\n",
      "“It is our choices, Harry, that show what we truly are, far more than our abilities.”\n",
      "“There are only two ways to live your life. One is as though nothing is a miracle. The other is as though everything is a miracle.”\n",
      "“The person, be it gentleman or lady, who has not pleasure in a good novel, must be intolerably stupid.”\n",
      "“Imperfection is beauty, madness is genius and it's better to be absolutely ridiculous than absolutely boring.”\n",
      "“Try not to become a man of success. Rather become a man of value.”\n",
      "“It is better to be hated for what you are than to be loved for what you are not.”\n",
      "“I have not failed. I've just found 10,000 ways that won't work.”\n",
      "“A woman is like a tea bag; you never know how strong it is until it's in hot water.”\n",
      "“A day without sunshine is like, you know, night.”\n"
     ]
    }
   ],
   "source": [
    "quotes = soup.find_all('span', {'class': 'text'})\n",
    "\n",
    "for quote in quotes:\n",
    "    print(quote.text)"
   ]
  },
  {
   "cell_type": "code",
   "execution_count": 4,
   "id": "bc521a39",
   "metadata": {},
   "outputs": [
    {
     "name": "stdout",
     "output_type": "stream",
     "text": [
      "“The world as we have created it is a process of our thinking. It cannot be changed without changing our thinking.” Albert Einstein\n",
      "Tags:\n",
      "            \n",
      "change\n",
      "deep-thoughts\n",
      "thinking\n",
      "world\n",
      "“It is our choices, Harry, that show what we truly are, far more than our abilities.” J.K. Rowling\n",
      "Tags:\n",
      "            \n",
      "abilities\n",
      "choices\n",
      "“There are only two ways to live your life. One is as though nothing is a miracle. The other is as though everything is a miracle.” Albert Einstein\n",
      "Tags:\n",
      "            \n",
      "inspirational\n",
      "life\n",
      "live\n",
      "miracle\n",
      "miracles\n",
      "“The person, be it gentleman or lady, who has not pleasure in a good novel, must be intolerably stupid.” Jane Austen\n",
      "Tags:\n",
      "            \n",
      "aliteracy\n",
      "books\n",
      "classic\n",
      "humor\n",
      "“Imperfection is beauty, madness is genius and it's better to be absolutely ridiculous than absolutely boring.” Marilyn Monroe\n",
      "Tags:\n",
      "            \n",
      "be-yourself\n",
      "inspirational\n",
      "“Try not to become a man of success. Rather become a man of value.” Albert Einstein\n",
      "Tags:\n",
      "            \n",
      "adulthood\n",
      "success\n",
      "value\n",
      "“It is better to be hated for what you are than to be loved for what you are not.” André Gide\n",
      "Tags:\n",
      "            \n",
      "life\n",
      "love\n",
      "“I have not failed. I've just found 10,000 ways that won't work.” Thomas A. Edison\n",
      "Tags:\n",
      "            \n",
      "edison\n",
      "failure\n",
      "inspirational\n",
      "paraphrased\n",
      "“A woman is like a tea bag; you never know how strong it is until it's in hot water.” Eleanor Roosevelt\n",
      "Tags:\n",
      "            \n",
      "misattributed-eleanor-roosevelt\n",
      "“A day without sunshine is like, you know, night.” Steve Martin\n",
      "Tags:\n",
      "            \n",
      "humor\n",
      "obvious\n",
      "simile\n"
     ]
    },
    {
     "data": {
      "text/html": [
       "<div>\n",
       "<style scoped>\n",
       "    .dataframe tbody tr th:only-of-type {\n",
       "        vertical-align: middle;\n",
       "    }\n",
       "\n",
       "    .dataframe tbody tr th {\n",
       "        vertical-align: top;\n",
       "    }\n",
       "\n",
       "    .dataframe thead th {\n",
       "        text-align: right;\n",
       "    }\n",
       "</style>\n",
       "<table border=\"1\" class=\"dataframe\">\n",
       "  <thead>\n",
       "    <tr style=\"text-align: right;\">\n",
       "      <th></th>\n",
       "      <th>quotes</th>\n",
       "      <th>authors</th>\n",
       "      <th>tags</th>\n",
       "    </tr>\n",
       "  </thead>\n",
       "  <tbody>\n",
       "    <tr>\n",
       "      <th>0</th>\n",
       "      <td>“The world as we have created it is a process ...</td>\n",
       "      <td>Albert Einstein</td>\n",
       "      <td>Tags:\\n            \\nchange\\ndeep-thoughts\\nth...</td>\n",
       "    </tr>\n",
       "    <tr>\n",
       "      <th>1</th>\n",
       "      <td>“It is our choices, Harry, that show what we t...</td>\n",
       "      <td>J.K. Rowling</td>\n",
       "      <td>Tags:\\n            \\nabilities\\nchoices</td>\n",
       "    </tr>\n",
       "    <tr>\n",
       "      <th>2</th>\n",
       "      <td>“There are only two ways to live your life. On...</td>\n",
       "      <td>Albert Einstein</td>\n",
       "      <td>Tags:\\n            \\ninspirational\\nlife\\nlive...</td>\n",
       "    </tr>\n",
       "    <tr>\n",
       "      <th>3</th>\n",
       "      <td>“The person, be it gentleman or lady, who has ...</td>\n",
       "      <td>Jane Austen</td>\n",
       "      <td>Tags:\\n            \\naliteracy\\nbooks\\nclassic...</td>\n",
       "    </tr>\n",
       "    <tr>\n",
       "      <th>4</th>\n",
       "      <td>“Imperfection is beauty, madness is genius and...</td>\n",
       "      <td>Marilyn Monroe</td>\n",
       "      <td>Tags:\\n            \\nbe-yourself\\ninspirational</td>\n",
       "    </tr>\n",
       "  </tbody>\n",
       "</table>\n",
       "</div>"
      ],
      "text/plain": [
       "                                              quotes          authors  \\\n",
       "0  “The world as we have created it is a process ...  Albert Einstein   \n",
       "1  “It is our choices, Harry, that show what we t...     J.K. Rowling   \n",
       "2  “There are only two ways to live your life. On...  Albert Einstein   \n",
       "3  “The person, be it gentleman or lady, who has ...      Jane Austen   \n",
       "4  “Imperfection is beauty, madness is genius and...   Marilyn Monroe   \n",
       "\n",
       "                                                tags  \n",
       "0  Tags:\\n            \\nchange\\ndeep-thoughts\\nth...  \n",
       "1            Tags:\\n            \\nabilities\\nchoices  \n",
       "2  Tags:\\n            \\ninspirational\\nlife\\nlive...  \n",
       "3  Tags:\\n            \\naliteracy\\nbooks\\nclassic...  \n",
       "4    Tags:\\n            \\nbe-yourself\\ninspirational  "
      ]
     },
     "execution_count": 4,
     "metadata": {},
     "output_type": "execute_result"
    }
   ],
   "source": [
    "quotes = soup.find_all('span', {'class': 'text'})\n",
    "authors = soup.find_all('small', {'class': 'author'})\n",
    "tags = soup.find_all('div', {'class': 'tags'})\n",
    "\n",
    "result_list = {'quotes': [], 'authors': [], 'tags': []}\n",
    "\n",
    "for i in range(0, len(authors)):\n",
    "    print(quotes[i].text.strip(), end=' ')\n",
    "    result_list['quotes'].append(quotes[i].text.strip())\n",
    "    print(authors[i].text.strip())\n",
    "    result_list['authors'].append(authors[i].text.strip())\n",
    "    print(tags[i].text.strip())\n",
    "    result_list['tags'].append(tags[i].text.strip())\n",
    "    \n",
    "df = pd.DataFrame(data=result_list)\n",
    "df.head()"
   ]
  }
 ],
 "metadata": {
  "kernelspec": {
   "display_name": "Python 3 (ipykernel)",
   "language": "python",
   "name": "python3"
  },
  "language_info": {
   "codemirror_mode": {
    "name": "ipython",
    "version": 3
   },
   "file_extension": ".py",
   "mimetype": "text/x-python",
   "name": "python",
   "nbconvert_exporter": "python",
   "pygments_lexer": "ipython3",
   "version": "3.9.12"
  }
 },
 "nbformat": 4,
 "nbformat_minor": 5
}
