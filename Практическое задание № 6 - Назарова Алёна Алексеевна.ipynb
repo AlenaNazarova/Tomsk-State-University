{
 "cells": [
  {
   "cell_type": "markdown",
   "id": "f691d79a",
   "metadata": {},
   "source": [
    "# Практическая работа № 6\n",
    "\n",
    "## Выполнил: Назарова Алёна Алексеевна"
   ]
  },
  {
   "cell_type": "markdown",
   "id": "e70711ce",
   "metadata": {},
   "source": [
    "**Инструкция:**\n",
    "\n",
    "- Шаг 1.  Изучить материалы лекционных и практических занятий по теме 9.2-9.3. \n",
    "- Шаг 2. Получить данные из файла **Heart_Disease_Prediction_ru.csv**. Датасет разбить на тестовую и обучающую выборку. Цель - спрогнозировать сердечную недостаточность. Признак Сердечное заболевание. Presence - есть, Absence - нет. \n",
    "- Шаг 3. Выполнить кластерный анализ с помощью алгоритма k-means.\n",
    "- Шаг 4. Постройть диаграмму рассеивания - scatter plot.\n",
    "- Шаг 5. Построить модель прогноза с помощью алгоритма Дерево решений.  Провести обучение модели.\n",
    "- Шаг 6. Выполнить прогноз и провести оценку модели.\n",
    "- Шаг 7. Опубликуовать файл расширения ipynb на платформе Odin."
   ]
  },
  {
   "cell_type": "code",
   "execution_count": 1,
   "id": "d3d0b40c",
   "metadata": {},
   "outputs": [],
   "source": [
    "import numpy as np\n",
    "import pandas as pd\n",
    "import matplotlib.pyplot as plt\n",
    "import seaborn as sns\n",
    "from sklearn.model_selection import train_test_split\n",
    "from sklearn.preprocessing import MinMaxScaler\n",
    "from sklearn.cluster import KMeans \n",
    "from sklearn.feature_selection import SelectKBest,chi2,RFE\n",
    "from sklearn.ensemble import RandomForestClassifier\n",
    "from sklearn.metrics import accuracy_score\n",
    "from sklearn.tree import DecisionTreeClassifier\n",
    "\n",
    "import warnings\n",
    "warnings.filterwarnings(\"ignore\")\n",
    "%config InlineBackend.figure_format = 'retina'\n",
    "%matplotlib inline"
   ]
  },
  {
   "cell_type": "markdown",
   "id": "9b9dfded",
   "metadata": {},
   "source": [
    "**Получить данные из файла Heart_Disease_Prediction_ru.csv** "
   ]
  },
  {
   "cell_type": "code",
   "execution_count": 2,
   "id": "cb20576d",
   "metadata": {
    "scrolled": true
   },
   "outputs": [
    {
     "data": {
      "text/html": [
       "<div>\n",
       "<style scoped>\n",
       "    .dataframe tbody tr th:only-of-type {\n",
       "        vertical-align: middle;\n",
       "    }\n",
       "\n",
       "    .dataframe tbody tr th {\n",
       "        vertical-align: top;\n",
       "    }\n",
       "\n",
       "    .dataframe thead th {\n",
       "        text-align: right;\n",
       "    }\n",
       "</style>\n",
       "<table border=\"1\" class=\"dataframe\">\n",
       "  <thead>\n",
       "    <tr style=\"text-align: right;\">\n",
       "      <th></th>\n",
       "      <th>Возраст</th>\n",
       "      <th>Пол</th>\n",
       "      <th>Тип боли в груди</th>\n",
       "      <th>BP</th>\n",
       "      <th>Холестерин</th>\n",
       "      <th>FBS свыше 120</th>\n",
       "      <th>Результаты EKG</th>\n",
       "      <th>Max HR</th>\n",
       "      <th>Стенокардия</th>\n",
       "      <th>ST депрессия</th>\n",
       "      <th>Наклон ST</th>\n",
       "      <th>Количество сосудов флюро</th>\n",
       "      <th>Таллий</th>\n",
       "      <th>Сердечное заболевание</th>\n",
       "    </tr>\n",
       "  </thead>\n",
       "  <tbody>\n",
       "    <tr>\n",
       "      <th>0</th>\n",
       "      <td>70</td>\n",
       "      <td>1</td>\n",
       "      <td>4</td>\n",
       "      <td>130</td>\n",
       "      <td>322</td>\n",
       "      <td>0</td>\n",
       "      <td>2</td>\n",
       "      <td>109</td>\n",
       "      <td>0</td>\n",
       "      <td>2.4</td>\n",
       "      <td>2</td>\n",
       "      <td>3</td>\n",
       "      <td>3</td>\n",
       "      <td>Presence</td>\n",
       "    </tr>\n",
       "    <tr>\n",
       "      <th>1</th>\n",
       "      <td>67</td>\n",
       "      <td>0</td>\n",
       "      <td>3</td>\n",
       "      <td>115</td>\n",
       "      <td>564</td>\n",
       "      <td>0</td>\n",
       "      <td>2</td>\n",
       "      <td>160</td>\n",
       "      <td>0</td>\n",
       "      <td>1.6</td>\n",
       "      <td>2</td>\n",
       "      <td>0</td>\n",
       "      <td>7</td>\n",
       "      <td>Absence</td>\n",
       "    </tr>\n",
       "    <tr>\n",
       "      <th>2</th>\n",
       "      <td>57</td>\n",
       "      <td>1</td>\n",
       "      <td>2</td>\n",
       "      <td>124</td>\n",
       "      <td>261</td>\n",
       "      <td>0</td>\n",
       "      <td>0</td>\n",
       "      <td>141</td>\n",
       "      <td>0</td>\n",
       "      <td>0.3</td>\n",
       "      <td>1</td>\n",
       "      <td>0</td>\n",
       "      <td>7</td>\n",
       "      <td>Presence</td>\n",
       "    </tr>\n",
       "    <tr>\n",
       "      <th>3</th>\n",
       "      <td>64</td>\n",
       "      <td>1</td>\n",
       "      <td>4</td>\n",
       "      <td>128</td>\n",
       "      <td>263</td>\n",
       "      <td>0</td>\n",
       "      <td>0</td>\n",
       "      <td>105</td>\n",
       "      <td>1</td>\n",
       "      <td>0.2</td>\n",
       "      <td>2</td>\n",
       "      <td>1</td>\n",
       "      <td>7</td>\n",
       "      <td>Absence</td>\n",
       "    </tr>\n",
       "    <tr>\n",
       "      <th>4</th>\n",
       "      <td>74</td>\n",
       "      <td>0</td>\n",
       "      <td>2</td>\n",
       "      <td>120</td>\n",
       "      <td>269</td>\n",
       "      <td>0</td>\n",
       "      <td>2</td>\n",
       "      <td>121</td>\n",
       "      <td>1</td>\n",
       "      <td>0.2</td>\n",
       "      <td>1</td>\n",
       "      <td>1</td>\n",
       "      <td>3</td>\n",
       "      <td>Absence</td>\n",
       "    </tr>\n",
       "  </tbody>\n",
       "</table>\n",
       "</div>"
      ],
      "text/plain": [
       "   Возраст  Пол  Тип боли в груди   BP  Холестерин  FBS свыше 120  \\\n",
       "0       70    1                 4  130         322              0   \n",
       "1       67    0                 3  115         564              0   \n",
       "2       57    1                 2  124         261              0   \n",
       "3       64    1                 4  128         263              0   \n",
       "4       74    0                 2  120         269              0   \n",
       "\n",
       "   Результаты EKG  Max HR  Стенокардия  ST депрессия  Наклон ST  \\\n",
       "0               2     109            0           2.4          2   \n",
       "1               2     160            0           1.6          2   \n",
       "2               0     141            0           0.3          1   \n",
       "3               0     105            1           0.2          2   \n",
       "4               2     121            1           0.2          1   \n",
       "\n",
       "   Количество сосудов флюро  Таллий Сердечное заболевание  \n",
       "0                         3       3              Presence  \n",
       "1                         0       7               Absence  \n",
       "2                         0       7              Presence  \n",
       "3                         1       7               Absence  \n",
       "4                         1       3               Absence  "
      ]
     },
     "execution_count": 2,
     "metadata": {},
     "output_type": "execute_result"
    }
   ],
   "source": [
    "df = pd.read_csv('Heart_Disease_Prediction_ru.csv')\n",
    "df.head()"
   ]
  },
  {
   "cell_type": "code",
   "execution_count": 3,
   "id": "b89326ad",
   "metadata": {
    "scrolled": true
   },
   "outputs": [
    {
     "data": {
      "text/plain": [
       "array(['Presence', 'Absence'], dtype=object)"
      ]
     },
     "execution_count": 3,
     "metadata": {},
     "output_type": "execute_result"
    }
   ],
   "source": [
    "df['Сердечное заболевание'].unique()"
   ]
  },
  {
   "cell_type": "code",
   "execution_count": 4,
   "id": "d60385a3",
   "metadata": {},
   "outputs": [
    {
     "data": {
      "text/plain": [
       "<bound method Series.map of 0      322\n",
       "1      564\n",
       "2      261\n",
       "3      263\n",
       "4      269\n",
       "      ... \n",
       "265    199\n",
       "266    263\n",
       "267    294\n",
       "268    192\n",
       "269    286\n",
       "Name: Холестерин, Length: 270, dtype: int64>"
      ]
     },
     "execution_count": 4,
     "metadata": {},
     "output_type": "execute_result"
    }
   ],
   "source": [
    "X = df[['Возраст','Пол', 'Тип боли в груди', 'Сердечное заболевание']]\n",
    "X = X.replace({'Сердечное заболевание' : {'Presence':1, 'Absence':0}})\n",
    "\n",
    "# преобразуем целевую переменную\n",
    "y = df['Холестерин'].map\n",
    "y"
   ]
  },
  {
   "cell_type": "code",
   "execution_count": 5,
   "id": "cea09a37",
   "metadata": {
    "scrolled": true
   },
   "outputs": [
    {
     "data": {
      "text/html": [
       "<div>\n",
       "<style scoped>\n",
       "    .dataframe tbody tr th:only-of-type {\n",
       "        vertical-align: middle;\n",
       "    }\n",
       "\n",
       "    .dataframe tbody tr th {\n",
       "        vertical-align: top;\n",
       "    }\n",
       "\n",
       "    .dataframe thead th {\n",
       "        text-align: right;\n",
       "    }\n",
       "</style>\n",
       "<table border=\"1\" class=\"dataframe\">\n",
       "  <thead>\n",
       "    <tr style=\"text-align: right;\">\n",
       "      <th></th>\n",
       "      <th>Возраст</th>\n",
       "      <th>Пол</th>\n",
       "      <th>Тип боли в груди</th>\n",
       "      <th>Сердечное заболевание</th>\n",
       "    </tr>\n",
       "  </thead>\n",
       "  <tbody>\n",
       "    <tr>\n",
       "      <th>0</th>\n",
       "      <td>70</td>\n",
       "      <td>1</td>\n",
       "      <td>4</td>\n",
       "      <td>1</td>\n",
       "    </tr>\n",
       "    <tr>\n",
       "      <th>1</th>\n",
       "      <td>67</td>\n",
       "      <td>0</td>\n",
       "      <td>3</td>\n",
       "      <td>0</td>\n",
       "    </tr>\n",
       "    <tr>\n",
       "      <th>2</th>\n",
       "      <td>57</td>\n",
       "      <td>1</td>\n",
       "      <td>2</td>\n",
       "      <td>1</td>\n",
       "    </tr>\n",
       "    <tr>\n",
       "      <th>3</th>\n",
       "      <td>64</td>\n",
       "      <td>1</td>\n",
       "      <td>4</td>\n",
       "      <td>0</td>\n",
       "    </tr>\n",
       "    <tr>\n",
       "      <th>4</th>\n",
       "      <td>74</td>\n",
       "      <td>0</td>\n",
       "      <td>2</td>\n",
       "      <td>0</td>\n",
       "    </tr>\n",
       "  </tbody>\n",
       "</table>\n",
       "</div>"
      ],
      "text/plain": [
       "   Возраст  Пол  Тип боли в груди  Сердечное заболевание\n",
       "0       70    1                 4                      1\n",
       "1       67    0                 3                      0\n",
       "2       57    1                 2                      1\n",
       "3       64    1                 4                      0\n",
       "4       74    0                 2                      0"
      ]
     },
     "execution_count": 5,
     "metadata": {},
     "output_type": "execute_result"
    }
   ],
   "source": [
    "X.head()"
   ]
  },
  {
   "cell_type": "code",
   "execution_count": 7,
   "id": "93ce8581",
   "metadata": {},
   "outputs": [
    {
     "data": {
      "text/html": [
       "<div>\n",
       "<style scoped>\n",
       "    .dataframe tbody tr th:only-of-type {\n",
       "        vertical-align: middle;\n",
       "    }\n",
       "\n",
       "    .dataframe tbody tr th {\n",
       "        vertical-align: top;\n",
       "    }\n",
       "\n",
       "    .dataframe thead th {\n",
       "        text-align: right;\n",
       "    }\n",
       "</style>\n",
       "<table border=\"1\" class=\"dataframe\">\n",
       "  <thead>\n",
       "    <tr style=\"text-align: right;\">\n",
       "      <th></th>\n",
       "      <th>Возраст</th>\n",
       "      <th>Пол</th>\n",
       "      <th>Тип боли в груди</th>\n",
       "      <th>Сердечное заболевание</th>\n",
       "    </tr>\n",
       "  </thead>\n",
       "  <tbody>\n",
       "    <tr>\n",
       "      <th>count</th>\n",
       "      <td>270.000000</td>\n",
       "      <td>270.000000</td>\n",
       "      <td>270.000000</td>\n",
       "      <td>270.000000</td>\n",
       "    </tr>\n",
       "    <tr>\n",
       "      <th>mean</th>\n",
       "      <td>54.433333</td>\n",
       "      <td>0.677778</td>\n",
       "      <td>3.174074</td>\n",
       "      <td>0.444444</td>\n",
       "    </tr>\n",
       "    <tr>\n",
       "      <th>std</th>\n",
       "      <td>9.109067</td>\n",
       "      <td>0.468195</td>\n",
       "      <td>0.950090</td>\n",
       "      <td>0.497827</td>\n",
       "    </tr>\n",
       "    <tr>\n",
       "      <th>min</th>\n",
       "      <td>29.000000</td>\n",
       "      <td>0.000000</td>\n",
       "      <td>1.000000</td>\n",
       "      <td>0.000000</td>\n",
       "    </tr>\n",
       "    <tr>\n",
       "      <th>25%</th>\n",
       "      <td>48.000000</td>\n",
       "      <td>0.000000</td>\n",
       "      <td>3.000000</td>\n",
       "      <td>0.000000</td>\n",
       "    </tr>\n",
       "    <tr>\n",
       "      <th>50%</th>\n",
       "      <td>55.000000</td>\n",
       "      <td>1.000000</td>\n",
       "      <td>3.000000</td>\n",
       "      <td>0.000000</td>\n",
       "    </tr>\n",
       "    <tr>\n",
       "      <th>75%</th>\n",
       "      <td>61.000000</td>\n",
       "      <td>1.000000</td>\n",
       "      <td>4.000000</td>\n",
       "      <td>1.000000</td>\n",
       "    </tr>\n",
       "    <tr>\n",
       "      <th>max</th>\n",
       "      <td>77.000000</td>\n",
       "      <td>1.000000</td>\n",
       "      <td>4.000000</td>\n",
       "      <td>1.000000</td>\n",
       "    </tr>\n",
       "  </tbody>\n",
       "</table>\n",
       "</div>"
      ],
      "text/plain": [
       "          Возраст         Пол  Тип боли в груди  Сердечное заболевание\n",
       "count  270.000000  270.000000        270.000000             270.000000\n",
       "mean    54.433333    0.677778          3.174074               0.444444\n",
       "std      9.109067    0.468195          0.950090               0.497827\n",
       "min     29.000000    0.000000          1.000000               0.000000\n",
       "25%     48.000000    0.000000          3.000000               0.000000\n",
       "50%     55.000000    1.000000          3.000000               0.000000\n",
       "75%     61.000000    1.000000          4.000000               1.000000\n",
       "max     77.000000    1.000000          4.000000               1.000000"
      ]
     },
     "execution_count": 7,
     "metadata": {},
     "output_type": "execute_result"
    }
   ],
   "source": [
    "X.describe()"
   ]
  },
  {
   "cell_type": "markdown",
   "id": "fb1f8d8a",
   "metadata": {},
   "source": [
    "**Разбить на тестовую и обучающую выборку**"
   ]
  },
  {
   "cell_type": "code",
   "execution_count": 13,
   "id": "2968227c",
   "metadata": {},
   "outputs": [
    {
     "data": {
      "text/plain": [
       "((216, 13), (54, 13), (216,), (54,))"
      ]
     },
     "execution_count": 13,
     "metadata": {},
     "output_type": "execute_result"
    }
   ],
   "source": [
    "X=df.drop(['Возраст'], axis=1)\n",
    "y=df['Холестерин']\n",
    "X_train, X_test, y_train, y_test = train_test_split(X, y, test_size = 0.2, random_state = 1)\n",
    "\n",
    "X_train.shape, X_test.shape, y_train.shape, y_test.shape"
   ]
  },
  {
   "cell_type": "markdown",
   "id": "510cafce",
   "metadata": {},
   "source": [
    "**Кластерный анализ на основе K средних**"
   ]
  },
  {
   "cell_type": "code",
   "execution_count": 36,
   "id": "9883ce26",
   "metadata": {},
   "outputs": [],
   "source": [
    "wcss = []\n",
    "x = X.to_numpy()\n",
    "\n",
    "for i in range(1, 11):\n",
    "    kmeans = KMeans(n_clusters = i, init = 'k-means++', max_iter = 216, n_init = 10, random_state = 0)\n",
    "    kmeans.fit(x) #Вычислить кластеризацию k-средних.\n",
    "    wcss.append(kmeans.inertia_)"
   ]
  },
  {
   "cell_type": "code",
   "execution_count": 37,
   "id": "a18acdb4",
   "metadata": {},
   "outputs": [
    {
     "data": {
      "image/png": "[encoded data removed]",
      "text/plain": [
       "<Figure size 432x288 with 1 Axes>"
      ]
     },
     "metadata": {
      "image/png": {
       "height": 277,
       "width": 385
      },
      "needs_background": "light"
     },
     "output_type": "display_data"
    }
   ],
   "source": [
    "plt.plot(range(1, 11), wcss)\n",
    "plt.title('Метод локтя')\n",
    "plt.xlabel('Номер кластера')\n",
    "plt.ylabel('Внутрикластерная сумма квадратов') \n",
    "plt.show()"
   ]
  },
  {
   "cell_type": "code",
   "execution_count": 39,
   "id": "1e31e048",
   "metadata": {},
   "outputs": [
    {
     "data": {
      "text/html": [
       "<div>\n",
       "<style scoped>\n",
       "    .dataframe tbody tr th:only-of-type {\n",
       "        vertical-align: middle;\n",
       "    }\n",
       "\n",
       "    .dataframe tbody tr th {\n",
       "        vertical-align: top;\n",
       "    }\n",
       "\n",
       "    .dataframe thead th {\n",
       "        text-align: right;\n",
       "    }\n",
       "</style>\n",
       "<table border=\"1\" class=\"dataframe\">\n",
       "  <thead>\n",
       "    <tr style=\"text-align: right;\">\n",
       "      <th></th>\n",
       "      <th>Возраст</th>\n",
       "      <th>Пол</th>\n",
       "      <th>Тип боли в груди</th>\n",
       "      <th>BP</th>\n",
       "      <th>Холестерин</th>\n",
       "      <th>FBS свыше 120</th>\n",
       "      <th>Результаты EKG</th>\n",
       "      <th>Max HR</th>\n",
       "      <th>Стенокардия</th>\n",
       "      <th>ST депрессия</th>\n",
       "      <th>Наклон ST</th>\n",
       "      <th>Количество сосудов флюро</th>\n",
       "      <th>Таллий</th>\n",
       "      <th>Сердечное заболевание</th>\n",
       "      <th>seg_km1</th>\n",
       "    </tr>\n",
       "  </thead>\n",
       "  <tbody>\n",
       "    <tr>\n",
       "      <th>0</th>\n",
       "      <td>70</td>\n",
       "      <td>1</td>\n",
       "      <td>4</td>\n",
       "      <td>130</td>\n",
       "      <td>322</td>\n",
       "      <td>0</td>\n",
       "      <td>2</td>\n",
       "      <td>109</td>\n",
       "      <td>0</td>\n",
       "      <td>2.4</td>\n",
       "      <td>2</td>\n",
       "      <td>3</td>\n",
       "      <td>3</td>\n",
       "      <td>Presence</td>\n",
       "      <td>2</td>\n",
       "    </tr>\n",
       "    <tr>\n",
       "      <th>1</th>\n",
       "      <td>67</td>\n",
       "      <td>0</td>\n",
       "      <td>3</td>\n",
       "      <td>115</td>\n",
       "      <td>564</td>\n",
       "      <td>0</td>\n",
       "      <td>2</td>\n",
       "      <td>160</td>\n",
       "      <td>0</td>\n",
       "      <td>1.6</td>\n",
       "      <td>2</td>\n",
       "      <td>0</td>\n",
       "      <td>7</td>\n",
       "      <td>Absence</td>\n",
       "      <td>3</td>\n",
       "    </tr>\n",
       "    <tr>\n",
       "      <th>2</th>\n",
       "      <td>57</td>\n",
       "      <td>1</td>\n",
       "      <td>2</td>\n",
       "      <td>124</td>\n",
       "      <td>261</td>\n",
       "      <td>0</td>\n",
       "      <td>0</td>\n",
       "      <td>141</td>\n",
       "      <td>0</td>\n",
       "      <td>0.3</td>\n",
       "      <td>1</td>\n",
       "      <td>0</td>\n",
       "      <td>7</td>\n",
       "      <td>Presence</td>\n",
       "      <td>1</td>\n",
       "    </tr>\n",
       "    <tr>\n",
       "      <th>3</th>\n",
       "      <td>64</td>\n",
       "      <td>1</td>\n",
       "      <td>4</td>\n",
       "      <td>128</td>\n",
       "      <td>263</td>\n",
       "      <td>0</td>\n",
       "      <td>0</td>\n",
       "      <td>105</td>\n",
       "      <td>1</td>\n",
       "      <td>0.2</td>\n",
       "      <td>2</td>\n",
       "      <td>1</td>\n",
       "      <td>7</td>\n",
       "      <td>Absence</td>\n",
       "      <td>2</td>\n",
       "    </tr>\n",
       "    <tr>\n",
       "      <th>4</th>\n",
       "      <td>74</td>\n",
       "      <td>0</td>\n",
       "      <td>2</td>\n",
       "      <td>120</td>\n",
       "      <td>269</td>\n",
       "      <td>0</td>\n",
       "      <td>2</td>\n",
       "      <td>121</td>\n",
       "      <td>1</td>\n",
       "      <td>0.2</td>\n",
       "      <td>1</td>\n",
       "      <td>1</td>\n",
       "      <td>3</td>\n",
       "      <td>Absence</td>\n",
       "      <td>2</td>\n",
       "    </tr>\n",
       "  </tbody>\n",
       "</table>\n",
       "</div>"
      ],
      "text/plain": [
       "   Возраст  Пол  Тип боли в груди   BP  Холестерин  FBS свыше 120  \\\n",
       "0       70    1                 4  130         322              0   \n",
       "1       67    0                 3  115         564              0   \n",
       "2       57    1                 2  124         261              0   \n",
       "3       64    1                 4  128         263              0   \n",
       "4       74    0                 2  120         269              0   \n",
       "\n",
       "   Результаты EKG  Max HR  Стенокардия  ST депрессия  Наклон ST  \\\n",
       "0               2     109            0           2.4          2   \n",
       "1               2     160            0           1.6          2   \n",
       "2               0     141            0           0.3          1   \n",
       "3               0     105            1           0.2          2   \n",
       "4               2     121            1           0.2          1   \n",
       "\n",
       "   Количество сосудов флюро  Таллий Сердечное заболевание  seg_km1  \n",
       "0                         3       3              Presence        2  \n",
       "1                         0       7               Absence        3  \n",
       "2                         0       7              Presence        1  \n",
       "3                         1       7               Absence        2  \n",
       "4                         1       3               Absence        2  "
      ]
     },
     "execution_count": 39,
     "metadata": {},
     "output_type": "execute_result"
    }
   ],
   "source": [
    "kmeans = KMeans(n_clusters = 6, init = 'k-means++', max_iter = 216, n_init = 10, random_state = 0)\n",
    "y_kmeans = kmeans.fit(x)\n",
    "labels1 = kmeans.labels_\n",
    "centroids1 = kmeans.cluster_centers_\n",
    "Z = y_kmeans.predict(x)\n",
    "df['seg_km1'] = Z\n",
    "df.head()"
   ]
  },
  {
   "cell_type": "code",
   "execution_count": 29,
   "id": "651e5054",
   "metadata": {},
   "outputs": [
    {
     "data": {
      "text/html": [
       "<div>\n",
       "<style scoped>\n",
       "    .dataframe tbody tr th:only-of-type {\n",
       "        vertical-align: middle;\n",
       "    }\n",
       "\n",
       "    .dataframe tbody tr th {\n",
       "        vertical-align: top;\n",
       "    }\n",
       "\n",
       "    .dataframe thead th {\n",
       "        text-align: right;\n",
       "    }\n",
       "</style>\n",
       "<table border=\"1\" class=\"dataframe\">\n",
       "  <thead>\n",
       "    <tr style=\"text-align: right;\">\n",
       "      <th></th>\n",
       "      <th>Возраст</th>\n",
       "      <th>Холестерин</th>\n",
       "    </tr>\n",
       "    <tr>\n",
       "      <th>seg_km1</th>\n",
       "      <th></th>\n",
       "      <th></th>\n",
       "    </tr>\n",
       "  </thead>\n",
       "  <tbody>\n",
       "    <tr>\n",
       "      <th>0</th>\n",
       "      <td>48.270833</td>\n",
       "      <td>197.104167</td>\n",
       "    </tr>\n",
       "    <tr>\n",
       "      <th>1</th>\n",
       "      <td>53.824176</td>\n",
       "      <td>246.472527</td>\n",
       "    </tr>\n",
       "    <tr>\n",
       "      <th>2</th>\n",
       "      <td>60.193548</td>\n",
       "      <td>273.645161</td>\n",
       "    </tr>\n",
       "    <tr>\n",
       "      <th>3</th>\n",
       "      <td>62.600000</td>\n",
       "      <td>438.200000</td>\n",
       "    </tr>\n",
       "    <tr>\n",
       "      <th>4</th>\n",
       "      <td>56.325000</td>\n",
       "      <td>199.200000</td>\n",
       "    </tr>\n",
       "    <tr>\n",
       "      <th>5</th>\n",
       "      <td>55.454545</td>\n",
       "      <td>306.836364</td>\n",
       "    </tr>\n",
       "  </tbody>\n",
       "</table>\n",
       "</div>"
      ],
      "text/plain": [
       "           Возраст  Холестерин\n",
       "seg_km1                       \n",
       "0        48.270833  197.104167\n",
       "1        53.824176  246.472527\n",
       "2        60.193548  273.645161\n",
       "3        62.600000  438.200000\n",
       "4        56.325000  199.200000\n",
       "5        55.454545  306.836364"
      ]
     },
     "execution_count": 29,
     "metadata": {},
     "output_type": "execute_result"
    }
   ],
   "source": [
    "df.groupby(['seg_km1'])[['Возраст','Холестерин']].mean()"
   ]
  },
  {
   "cell_type": "code",
   "execution_count": 30,
   "id": "0fe1d424",
   "metadata": {},
   "outputs": [
    {
     "data": {
      "text/plain": [
       "<AxesSubplot:xlabel='seg_km1', ylabel='Холестерин'>"
      ]
     },
     "execution_count": 30,
     "metadata": {},
     "output_type": "execute_result"
    },
    {
     "data": {
      "image/png": "[encoded data removed]",
      "text/plain": [
       "<Figure size 432x288 with 1 Axes>"
      ]
     },
     "metadata": {
      "image/png": {
       "height": 262,
       "width": 388
      },
      "needs_background": "light"
     },
     "output_type": "display_data"
    }
   ],
   "source": [
    "# plot\n",
    "sns.boxplot(x=df['seg_km1'], y=df['Холестерин'], data=df)"
   ]
  },
  {
   "cell_type": "markdown",
   "id": "b969bd11",
   "metadata": {},
   "source": [
    "**Диаграмма рассеивания - scatter plot**"
   ]
  },
  {
   "cell_type": "code",
   "execution_count": 31,
   "id": "c4a7835b",
   "metadata": {},
   "outputs": [
    {
     "data": {
      "text/plain": [
       "Text(0, 0.5, 'Холестерин')"
      ]
     },
     "execution_count": 31,
     "metadata": {},
     "output_type": "execute_result"
    },
    {
     "data": {
      "image/png": "[encoded data removed]",
      "text/plain": [
       "<Figure size 432x288 with 1 Axes>"
      ]
     },
     "metadata": {
      "image/png": {
       "height": 261,
       "width": 388
      },
      "needs_background": "light"
     },
     "output_type": "display_data"
    }
   ],
   "source": [
    "plt.scatter(x = df['Возраст'], y = df['Холестерин'], \n",
    "            c = df['seg_km1'])\n",
    "plt.xlabel('Возраст')\n",
    "plt.ylabel('Холестерин')"
   ]
  },
  {
   "cell_type": "markdown",
   "id": "3829183a",
   "metadata": {},
   "source": [
    "**Модель машинного обучения с помощью алгоритма Дерево решений. Обучение модели**"
   ]
  },
  {
   "cell_type": "code",
   "execution_count": 41,
   "id": "c8c6222d",
   "metadata": {},
   "outputs": [
    {
     "data": {
      "text/plain": [
       "((216, 4), (54, 4), (216,), (54,))"
      ]
     },
     "execution_count": 41,
     "metadata": {},
     "output_type": "execute_result"
    }
   ],
   "source": [
    "X = df[['Возраст','Пол', 'Тип боли в груди', 'Сердечное заболевание']]\n",
    "X = X.replace({'Сердечное заболевание' : {'Presence':1, 'Absence':0}})\n",
    "\n",
    "y = df['Холестерин']\n",
    "\n",
    "X_train, X_test, y_train, y_test = train_test_split(X, y, test_size = 0.2, random_state = 1)\n",
    "\n",
    "X_train.shape, X_test.shape, y_train.shape, y_test.shape"
   ]
  },
  {
   "cell_type": "code",
   "execution_count": 46,
   "id": "fbca0cda",
   "metadata": {},
   "outputs": [],
   "source": [
    "predictors = ['Возраст', 'Сердечное заболевание']\n",
    "decision_tree_model1 = DecisionTreeClassifier(random_state=14, criterion='entropy',\n",
    "                                   max_depth=4)\n",
    "decision_tree_model1.fit(X_train[predictors], y_train)\n",
    "y_pred = decision_tree_model1.predict(X_test[predictors])"
   ]
  },
  {
   "cell_type": "markdown",
   "id": "89191275",
   "metadata": {},
   "source": [
    "**Прогноз и оценка модели**"
   ]
  },
  {
   "cell_type": "code",
   "execution_count": 47,
   "id": "ae849564",
   "metadata": {
    "scrolled": true
   },
   "outputs": [
    {
     "name": "stdout",
     "output_type": "stream",
     "text": [
      "Доля верных прогнозов:  1.8518518518518516\n"
     ]
    }
   ],
   "source": [
    "dol_tree_model1 = accuracy_score(y_pred, y_test) * 100\n",
    "print('Доля верных прогнозов: ', dol_tree_model1)"
   ]
  }
 ],
 "metadata": {
  "kernelspec": {
   "display_name": "Python 3 (ipykernel)",
   "language": "python",
   "name": "python3"
  },
  "language_info": {
   "codemirror_mode": {
    "name": "ipython",
    "version": 3
   },
   "file_extension": ".py",
   "mimetype": "text/x-python",
   "name": "python",
   "nbconvert_exporter": "python",
   "pygments_lexer": "ipython3",
   "version": "3.9.12"
  }
 },
 "nbformat": 4,
 "nbformat_minor": 5
}
