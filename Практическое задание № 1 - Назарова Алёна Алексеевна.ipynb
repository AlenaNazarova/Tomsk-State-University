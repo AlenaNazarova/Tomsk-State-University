{
 "cells": [
  {
   "cell_type": "markdown",
   "id": "eb5a64ba",
   "metadata": {},
   "source": [
    "# Практическое задание № 1\n",
    "## Выполнила: Назарова Алёна Алексеевна"
   ]
  },
  {
   "cell_type": "markdown",
   "id": "83bb5cca",
   "metadata": {},
   "source": [
    "Первая программа на языке программирования Python\n",
    "1. Создайте структуру данных, описывающую закрытую социальную сеть (не менее 10 пользователей). \n",
    "Используйте списки и словари для установления взаимосвязей пользователей. \n",
    "2. Создайте функцию, определяющую количество друзей у выбранного пользователя.\n",
    "3. Создайте функцию, выводящую на экран пользователей, отсортированных по количеству друзей."
   ]
  },
  {
   "cell_type": "markdown",
   "id": "c17dbd92",
   "metadata": {},
   "source": [
    "Частная социальная сеть"
   ]
  },
  {
   "cell_type": "code",
   "execution_count": 6,
   "id": "bdf82251",
   "metadata": {},
   "outputs": [
    {
     "data": {
      "text/plain": [
       "list"
      ]
     },
     "execution_count": 6,
     "metadata": {},
     "output_type": "execute_result"
    }
   ],
   "source": [
    "users = [\n",
    "{\"id\": 0, \"name\": \"Маша\"},\n",
    "{\"id\": 1, \"name\" : \"Марина\"},\n",
    "{\"id\": 2, \"name\": \"Света\"},\n",
    "{\"id\": 3, \"name\": \"Оля\"},\n",
    "{\"id\": 4, \"name\": \"Таня\"},\n",
    "{\"id\": 5, \"name\": \"Галя\"},\n",
    "{\"id\": 6, \"name\": \"Лена\"},\n",
    "{\"id\": 7, \"name\": \"Алёна\"},\n",
    "{\"id\": 8, \"name\": \"Ирина\"},\n",
    "{\"id\": 9, \"name\": \"Дарья\"},\n",
    "{\"id\": 10, \"name\": \"Женя\"}\n",
    "]\n",
    "type(users)"
   ]
  },
  {
   "cell_type": "code",
   "execution_count": 13,
   "id": "9aa96ce2",
   "metadata": {},
   "outputs": [
    {
     "data": {
      "text/plain": [
       "(list,\n",
       " [(0, 5),\n",
       "  (0, 7),\n",
       "  (1, 2),\n",
       "  (1, 10),\n",
       "  (2, 3),\n",
       "  (2, 10),\n",
       "  (3, 6),\n",
       "  (3, 7),\n",
       "  (4, 8),\n",
       "  (5, 8),\n",
       "  (6, 7),\n",
       "  (7, 9),\n",
       "  (8, 2),\n",
       "  (9, 3),\n",
       "  (9, 5),\n",
       "  (10, 6)])"
      ]
     },
     "execution_count": 13,
     "metadata": {},
     "output_type": "execute_result"
    }
   ],
   "source": [
    "fp = [ (0, 5), (0, 7), (1, 2), (1, 10), (2, 3),(2, 10), (3, 6), (3, 7), (4, 8), (5, 8), (6, 7), (7, 9), (8, 2), (9, 3), (9, 5), (10, 6)]\n",
    "type(fp), fp"
   ]
  },
  {
   "cell_type": "code",
   "execution_count": 15,
   "id": "3e0b615f",
   "metadata": {},
   "outputs": [
    {
     "data": {
      "text/plain": [
       "(dict,\n",
       " {0: [],\n",
       "  1: [],\n",
       "  2: [],\n",
       "  3: [],\n",
       "  4: [],\n",
       "  5: [],\n",
       "  6: [],\n",
       "  7: [],\n",
       "  8: [],\n",
       "  9: [],\n",
       "  10: []})"
      ]
     },
     "execution_count": 15,
     "metadata": {},
     "output_type": "execute_result"
    }
   ],
   "source": [
    "# Инициализировать словарь пустым списком для идентификатора\n",
    "# каждого пользователя\n",
    "friendships = {user[\"id\"]: [] for user in users}\n",
    "type(friendships), friendships"
   ]
  },
  {
   "cell_type": "code",
   "execution_count": 16,
   "id": "bc55af3d",
   "metadata": {},
   "outputs": [],
   "source": [
    "for i, j in fp:\n",
    "    friendships[i].append(j) # Добавить j как друга для i\n",
    "    friendships[j].append(i) # Добавить i как друга ДЛЯ j"
   ]
  },
  {
   "cell_type": "code",
   "execution_count": 17,
   "id": "a92dc3be",
   "metadata": {},
   "outputs": [
    {
     "data": {
      "text/plain": [
       "{0: [5, 7],\n",
       " 1: [2, 10],\n",
       " 2: [1, 3, 10, 8],\n",
       " 3: [2, 6, 7, 9],\n",
       " 4: [8],\n",
       " 5: [0, 8, 9],\n",
       " 6: [3, 7, 10],\n",
       " 7: [0, 3, 6, 9],\n",
       " 8: [4, 5, 2],\n",
       " 9: [7, 3, 5],\n",
       " 10: [1, 2, 6]}"
      ]
     },
     "execution_count": 17,
     "metadata": {},
     "output_type": "execute_result"
    }
   ],
   "source": [
    "friendships"
   ]
  },
  {
   "cell_type": "markdown",
   "id": "1bf33b17",
   "metadata": {},
   "source": [
    "2. Функция, определяющяя количество друзей у выбранного пользователя"
   ]
  },
  {
   "cell_type": "markdown",
   "id": "4c05e2b4",
   "metadata": {},
   "source": [
    "Написать функцию, которая определяет сколько друзей есть у пользователя user\n",
    "def number_of_friends(u):\n",
    "\n",
    "в локальную переменную user_id присвоить значение по ключу id из словаря u - {'id': 0, 'name': 'Алексей'}\n",
    "в локальную переменную friend_ids присвоить значение по ключу из словаря friendships - 3: [1, 4]\n",
    "у функции возвращаем количество элементов списка friend_ids"
   ]
  },
  {
   "cell_type": "code",
   "execution_count": 66,
   "id": "3901f130",
   "metadata": {},
   "outputs": [],
   "source": [
    "def number_of_friends(u):\n",
    "    used_id = u[\"id\"]\n",
    "    friend_ids = friendships[used_id]\n",
    "    return len(friend_ids)\n",
    "#print(number_of_friends)"
   ]
  },
  {
   "cell_type": "code",
   "execution_count": 67,
   "id": "c2014a0e",
   "metadata": {},
   "outputs": [
    {
     "data": {
      "text/plain": [
       "{'id': 6, 'name': 'Лена'}"
      ]
     },
     "execution_count": 67,
     "metadata": {},
     "output_type": "execute_result"
    }
   ],
   "source": [
    "users[6]"
   ]
  },
  {
   "cell_type": "code",
   "execution_count": 68,
   "id": "4c500266",
   "metadata": {},
   "outputs": [
    {
     "data": {
      "text/plain": [
       "3"
      ]
     },
     "execution_count": 68,
     "metadata": {},
     "output_type": "execute_result"
    }
   ],
   "source": [
    "number_of_friends(users[6]) #выводит количество друзей"
   ]
  },
  {
   "cell_type": "markdown",
   "id": "aaeb3003",
   "metadata": {},
   "source": [
    "3. Функция, выводящая на экран пользователей, отсортированных по количеству друзей"
   ]
  },
  {
   "cell_type": "markdown",
   "id": "6367099b",
   "metadata": {},
   "source": [
    "создать список num_friends_by_name, который содержит имя пользователя user[\"name\"] и число его друзей number_of_friends(user)"
   ]
  },
  {
   "cell_type": "code",
   "execution_count": 69,
   "id": "04b483d5",
   "metadata": {},
   "outputs": [
    {
     "data": {
      "text/plain": [
       "[('Маша', 2),\n",
       " ('Марина', 2),\n",
       " ('Света', 4),\n",
       " ('Оля', 4),\n",
       " ('Таня', 1),\n",
       " ('Галя', 3),\n",
       " ('Лена', 3),\n",
       " ('Алёна', 4),\n",
       " ('Ирина', 3),\n",
       " ('Дарья', 3),\n",
       " ('Женя', 3)]"
      ]
     },
     "execution_count": 69,
     "metadata": {},
     "output_type": "execute_result"
    }
   ],
   "source": [
    "num_friends_by_name = list((user[\"name\"], number_of_friends(user)) for user in users)\n",
    "num_friends_by_name"
   ]
  },
  {
   "cell_type": "code",
   "execution_count": 70,
   "id": "4e357e8f",
   "metadata": {},
   "outputs": [
    {
     "data": {
      "text/plain": [
       "(list,\n",
       " [('Маша', 2),\n",
       "  ('Марина', 2),\n",
       "  ('Света', 4),\n",
       "  ('Оля', 4),\n",
       "  ('Таня', 1),\n",
       "  ('Галя', 3),\n",
       "  ('Лена', 3),\n",
       "  ('Алёна', 4),\n",
       "  ('Ирина', 3),\n",
       "  ('Дарья', 3),\n",
       "  ('Женя', 3)])"
      ]
     },
     "execution_count": 70,
     "metadata": {},
     "output_type": "execute_result"
    }
   ],
   "source": [
    "type(num_friends_by_name), num_friends_by_name"
   ]
  },
  {
   "cell_type": "markdown",
   "id": "fbddf46d",
   "metadata": {},
   "source": [
    "Отсортировать список по числу друзей"
   ]
  },
  {
   "cell_type": "code",
   "execution_count": 83,
   "id": "b05397b4",
   "metadata": {},
   "outputs": [],
   "source": [
    "num_friends_by_name.sort(key = (lambda num_friends_by_name: num_friends_by_name[1]))\n"
   ]
  },
  {
   "cell_type": "code",
   "execution_count": 84,
   "id": "f1823ec1",
   "metadata": {},
   "outputs": [
    {
     "name": "stdout",
     "output_type": "stream",
     "text": [
      "[('Таня', 1), ('Маша', 2), ('Марина', 2), ('Галя', 3), ('Лена', 3), ('Ирина', 3), ('Дарья', 3), ('Женя', 3), ('Света', 4), ('Оля', 4), ('Алёна', 4)]\n"
     ]
    }
   ],
   "source": [
    "print(num_friends_by_name)"
   ]
  }
 ],
 "metadata": {
  "kernelspec": {
   "display_name": "Python 3 (ipykernel)",
   "language": "python",
   "name": "python3"
  },
  "language_info": {
   "codemirror_mode": {
    "name": "ipython",
    "version": 3
   },
   "file_extension": ".py",
   "mimetype": "text/x-python",
   "name": "python",
   "nbconvert_exporter": "python",
   "pygments_lexer": "ipython3",
   "version": "3.9.12"
  }
 },
 "nbformat": 4,
 "nbformat_minor": 5
}
